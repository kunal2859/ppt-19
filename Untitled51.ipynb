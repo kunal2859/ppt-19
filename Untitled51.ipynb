{
 "cells": [
  {
   "cell_type": "code",
   "execution_count": 3,
   "id": "5c84d4d2",
   "metadata": {},
   "outputs": [
    {
     "name": "stdout",
     "output_type": "stream",
     "text": [
      "5\n",
      "1 2 3 4 5\n",
      "Mean:  3.0\n"
     ]
    }
   ],
   "source": [
    "def calculate_mean(numbers):\n",
    "    total=sum(numbers)\n",
    "    count=len(numbers)\n",
    "    mean=total/count\n",
    "    return mean\n",
    "\n",
    "n=int(input())\n",
    "num=list(map(int,input().split()))[:n]\n",
    "Mean=calculate_mean(num)\n",
    "print(\"Mean: \", Mean)"
   ]
  },
  {
   "cell_type": "markdown",
   "id": "d396a70d",
   "metadata": {},
   "source": [
    " "
   ]
  }
 ],
 "metadata": {
  "kernelspec": {
   "display_name": "Python 3 (ipykernel)",
   "language": "python",
   "name": "python3"
  },
  "language_info": {
   "codemirror_mode": {
    "name": "ipython",
    "version": 3
   },
   "file_extension": ".py",
   "mimetype": "text/x-python",
   "name": "python",
   "nbconvert_exporter": "python",
   "pygments_lexer": "ipython3",
   "version": "3.9.13"
  }
 },
 "nbformat": 4,
 "nbformat_minor": 5
}
